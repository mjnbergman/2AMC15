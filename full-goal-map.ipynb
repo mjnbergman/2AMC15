{
 "cells": [
  {
   "cell_type": "code",
   "execution_count": null,
   "metadata": {},
   "outputs": [],
   "source": [
    "# This notebook is used to merge separate polygons for goal and obstacles.\n",
    "# We do this separately from the environment to decrease complexity.\n",
    "# The printed lists are copy pasted into example-env-full.json and example-env.json \n",
    "# manually in the corresponding goal and obstacles lists"
   ]
  },
  {
   "cell_type": "code",
   "execution_count": 1,
   "metadata": {},
   "outputs": [],
   "source": [
    "import json\n",
    "from shapely.geometry import Polygon, MultiPolygon\n",
    "from shapely.ops import unary_union\n",
    "\n",
    "room_polygon = Polygon([\n",
    "    [0, 0],\n",
    "    [0, 10],\n",
    "    [10, 10],\n",
    "    [10, 0]\n",
    "])\n",
    "\n",
    "with open(\"example-env.json\") as file:\n",
    "    config = json.load(file)\n",
    "\n",
    "obstacle_polygon = unary_union(MultiPolygon([Polygon(obstacle) for obstacle in config[\"obstacles\"]]))\n",
    "death_polygon = Polygon(config[\"death\"][0])\n",
    "goal_polygon = (room_polygon - obstacle_polygon - death_polygon)"
   ]
  },
  {
   "cell_type": "markdown",
   "metadata": {},
   "source": [
    "# Obstacles"
   ]
  },
  {
   "cell_type": "code",
   "execution_count": 5,
   "metadata": {},
   "outputs": [],
   "source": [
    "obstacles = []\n",
    "for obstacle in obstacle_polygon.geoms:\n",
    "    x, y = obstacle.exterior.xy\n",
    "    coords = []\n",
    "    for i in range(len(x)):\n",
    "        coords.append([x[i], y[i]])\n",
    "    obstacles.append(coords)\n",
    "\n",
    "obstacles"
   ]
  },
  {
   "cell_type": "markdown",
   "metadata": {},
   "source": [
    "# Goal"
   ]
  },
  {
   "cell_type": "code",
   "execution_count": 7,
   "metadata": {},
   "outputs": [
    {
     "data": {
      "text/plain": [
       "[[9.4, 8.9],\n",
       " [10.0, 8.9],\n",
       " [10.0, 8.3],\n",
       " [9.2, 8.3],\n",
       " [9.2, 8.0],\n",
       " [10.0, 8.0],\n",
       " [10.0, 1.6],\n",
       " [8.9, 1.6],\n",
       " [8.9, 1.7],\n",
       " [8.0, 1.7],\n",
       " [7.9, 1.7],\n",
       " [7.9, 0.5249999999999999],\n",
       " [6.4, 0.8999999999999999],\n",
       " [6.4, 4.5],\n",
       " [6.3, 4.5],\n",
       " [6.3, 0.925],\n",
       " [4.3, 1.425],\n",
       " [4.3, 1.6],\n",
       " [5.65, 1.6],\n",
       " [5.65, 3.0],\n",
       " [4.3, 3.0],\n",
       " [4.3, 3.15],\n",
       " [5.2, 3.15],\n",
       " [5.2, 3.55],\n",
       " [4.3, 3.55],\n",
       " [4.3, 4.0],\n",
       " [5.2, 4.0],\n",
       " [5.2, 4.4],\n",
       " [5.4, 4.4],\n",
       " [5.4, 4.5],\n",
       " [4.3, 4.5],\n",
       " [4.0, 4.5],\n",
       " [4.0, 1.5],\n",
       " [2.0, 2.0],\n",
       " [2.0, 2.5],\n",
       " [3.35, 2.5],\n",
       " [3.35, 3.9],\n",
       " [2.0, 3.9],\n",
       " [2.0, 4.4],\n",
       " [2.4, 4.4],\n",
       " [2.4, 5.7],\n",
       " [3.0, 5.7],\n",
       " [3.0, 4.4],\n",
       " [3.1, 4.4],\n",
       " [3.25, 4.4],\n",
       " [3.25, 4.5],\n",
       " [3.1, 4.5],\n",
       " [3.1, 5.7],\n",
       " [3.1, 6.1],\n",
       " [3.1, 6.2],\n",
       " [2.65, 6.2],\n",
       " [2.65, 7.35],\n",
       " [2.0, 7.35],\n",
       " [2.0, 8.0],\n",
       " [4.0, 8.0],\n",
       " [4.0, 5.5],\n",
       " [4.3, 5.5],\n",
       " [4.3, 8.0],\n",
       " [5.8, 8.0],\n",
       " [5.8, 5.6],\n",
       " [5.1, 5.6],\n",
       " [5.1, 5.5],\n",
       " [5.8, 5.5],\n",
       " [5.9, 5.5],\n",
       " [6.4, 5.5],\n",
       " [6.4, 7.4],\n",
       " [8.0, 7.4],\n",
       " [8.0, 8.0],\n",
       " [8.0, 10.0],\n",
       " [9.4, 10.0],\n",
       " [9.4, 8.9]]"
      ]
     },
     "execution_count": 7,
     "metadata": {},
     "output_type": "execute_result"
    }
   ],
   "source": [
    "x, y = goal_polygon.exterior.xy\n",
    "coords = []\n",
    "for i in range(len(x)):\n",
    "    coords.append([x[i], y[i]])\n",
    "\n",
    "coords"
   ]
  }
 ],
 "metadata": {
  "kernelspec": {
   "display_name": "Python 3.9.12 ('DIC2')",
   "language": "python",
   "name": "python3"
  },
  "language_info": {
   "codemirror_mode": {
    "name": "ipython",
    "version": 3
   },
   "file_extension": ".py",
   "mimetype": "text/x-python",
   "name": "python",
   "nbconvert_exporter": "python",
   "pygments_lexer": "ipython3",
   "version": "3.9.12"
  },
  "orig_nbformat": 4,
  "vscode": {
   "interpreter": {
    "hash": "41936f66d06cb379102e6d5d713d765bb3c58b6127701c28268b5ab9a1abeb38"
   }
  }
 },
 "nbformat": 4,
 "nbformat_minor": 2
}
