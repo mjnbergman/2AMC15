{
 "cells": [
  {
   "cell_type": "code",
   "execution_count": 1,
   "metadata": {},
   "outputs": [
    {
     "name": "stdout",
     "output_type": "stream",
     "text": [
      "RESET!!!!!!!!!!!!!!!!!!!!!!!!!!!!!!!!!!!!!!!!!!!!!!!!!!!!\n",
      "Using cpu device\n",
      "Wrapping the env with a `Monitor` wrapper\n",
      "Wrapping the env in a DummyVecEnv.\n",
      "Wrapping the env in a VecTransposeImage.\n",
      "RESET!!!!!!!!!!!!!!!!!!!!!!!!!!!!!!!!!!!!!!!!!!!!!!!!!!!!\n",
      "RESET!!!!!!!!!!!!!!!!!!!!!!!!!!!!!!!!!!!!!!!!!!!!!!!!!!!!1 1\n",
      "Reward [-5.0] cleaned 0.0 1\r"
     ]
    },
    {
     "ename": "KeyboardInterrupt",
     "evalue": "",
     "output_type": "error",
     "traceback": [
      "\u001b[1;31m---------------------------------------------------------------------------\u001b[0m",
      "\u001b[1;31mKeyboardInterrupt\u001b[0m                         Traceback (most recent call last)",
      "\u001b[1;32mc:\\Users\\Max.van.den.Hoven\\Documents\\_data-intelligence-challenge\\2AMC15\\PPO.ipynb Cell 1'\u001b[0m in \u001b[0;36m<cell line: 13>\u001b[1;34m()\u001b[0m\n\u001b[0;32m      <a href='vscode-notebook-cell:/c%3A/Users/Max.van.den.Hoven/Documents/_data-intelligence-challenge/2AMC15/PPO.ipynb#ch0000000?line=4'>5</a>\u001b[0m env \u001b[39m=\u001b[39m GymEnv(\n\u001b[0;32m      <a href='vscode-notebook-cell:/c%3A/Users/Max.van.den.Hoven/Documents/_data-intelligence-challenge/2AMC15/PPO.ipynb#ch0000000?line=5'>6</a>\u001b[0m     configFile\u001b[39m=\u001b[39m\u001b[39m\"\u001b[39m\u001b[39mexample-env.json\u001b[39m\u001b[39m\"\u001b[39m,\n\u001b[0;32m      <a href='vscode-notebook-cell:/c%3A/Users/Max.van.den.Hoven/Documents/_data-intelligence-challenge/2AMC15/PPO.ipynb#ch0000000?line=6'>7</a>\u001b[0m     robots\u001b[39m=\u001b[39m[Robot(\u001b[39mid\u001b[39m\u001b[39m=\u001b[39m\u001b[39m1\u001b[39m, radius\u001b[39m=\u001b[39m\u001b[39m0.1\u001b[39m, color\u001b[39m=\u001b[39m\u001b[39m\"\u001b[39m\u001b[39mblue\u001b[39m\u001b[39m\"\u001b[39m, batteryLevel\u001b[39m=\u001b[39m\u001b[39m100\u001b[39m)],\n\u001b[0;32m      <a href='vscode-notebook-cell:/c%3A/Users/Max.van.den.Hoven/Documents/_data-intelligence-challenge/2AMC15/PPO.ipynb#ch0000000?line=7'>8</a>\u001b[0m     startingPos\u001b[39m=\u001b[39m[[\u001b[39m8\u001b[39m, \u001b[39m5\u001b[39m]],\n\u001b[0;32m      <a href='vscode-notebook-cell:/c%3A/Users/Max.van.den.Hoven/Documents/_data-intelligence-challenge/2AMC15/PPO.ipynb#ch0000000?line=8'>9</a>\u001b[0m     save\u001b[39m=\u001b[39m\u001b[39mTrue\u001b[39;00m\n\u001b[0;32m     <a href='vscode-notebook-cell:/c%3A/Users/Max.van.den.Hoven/Documents/_data-intelligence-challenge/2AMC15/PPO.ipynb#ch0000000?line=9'>10</a>\u001b[0m )\n\u001b[0;32m     <a href='vscode-notebook-cell:/c%3A/Users/Max.van.den.Hoven/Documents/_data-intelligence-challenge/2AMC15/PPO.ipynb#ch0000000?line=11'>12</a>\u001b[0m model \u001b[39m=\u001b[39m PPO(\u001b[39m\"\u001b[39m\u001b[39mCnnPolicy\u001b[39m\u001b[39m\"\u001b[39m, env, verbose\u001b[39m=\u001b[39m\u001b[39m1\u001b[39m)\n\u001b[1;32m---> <a href='vscode-notebook-cell:/c%3A/Users/Max.van.den.Hoven/Documents/_data-intelligence-challenge/2AMC15/PPO.ipynb#ch0000000?line=12'>13</a>\u001b[0m model\u001b[39m.\u001b[39;49mlearn(total_timesteps\u001b[39m=\u001b[39;49m\u001b[39m1\u001b[39;49m, eval_log_path\u001b[39m=\u001b[39;49m\u001b[39m\"\u001b[39;49m\u001b[39meval\u001b[39;49m\u001b[39m\"\u001b[39;49m, eval_freq\u001b[39m=\u001b[39;49m\u001b[39m1\u001b[39;49m)\n\u001b[0;32m     <a href='vscode-notebook-cell:/c%3A/Users/Max.van.den.Hoven/Documents/_data-intelligence-challenge/2AMC15/PPO.ipynb#ch0000000?line=14'>15</a>\u001b[0m obs \u001b[39m=\u001b[39m env\u001b[39m.\u001b[39mreset()\n\u001b[0;32m     <a href='vscode-notebook-cell:/c%3A/Users/Max.van.den.Hoven/Documents/_data-intelligence-challenge/2AMC15/PPO.ipynb#ch0000000?line=15'>16</a>\u001b[0m \u001b[39mfor\u001b[39;00m i \u001b[39min\u001b[39;00m \u001b[39mrange\u001b[39m(\u001b[39m1000\u001b[39m):\n",
      "File \u001b[1;32mc:\\Users\\Max.van.den.Hoven\\Anaconda3\\envs\\DIC2\\lib\\site-packages\\stable_baselines3\\ppo\\ppo.py:304\u001b[0m, in \u001b[0;36mPPO.learn\u001b[1;34m(self, total_timesteps, callback, log_interval, eval_env, eval_freq, n_eval_episodes, tb_log_name, eval_log_path, reset_num_timesteps)\u001b[0m\n\u001b[0;32m    291\u001b[0m \u001b[39mdef\u001b[39;00m \u001b[39mlearn\u001b[39m(\n\u001b[0;32m    292\u001b[0m     \u001b[39mself\u001b[39m,\n\u001b[0;32m    293\u001b[0m     total_timesteps: \u001b[39mint\u001b[39m,\n\u001b[1;32m   (...)\u001b[0m\n\u001b[0;32m    301\u001b[0m     reset_num_timesteps: \u001b[39mbool\u001b[39m \u001b[39m=\u001b[39m \u001b[39mTrue\u001b[39;00m,\n\u001b[0;32m    302\u001b[0m ) \u001b[39m-\u001b[39m\u001b[39m>\u001b[39m \u001b[39m\"\u001b[39m\u001b[39mPPO\u001b[39m\u001b[39m\"\u001b[39m:\n\u001b[1;32m--> 304\u001b[0m     \u001b[39mreturn\u001b[39;00m \u001b[39msuper\u001b[39;49m(PPO, \u001b[39mself\u001b[39;49m)\u001b[39m.\u001b[39;49mlearn(\n\u001b[0;32m    305\u001b[0m         total_timesteps\u001b[39m=\u001b[39;49mtotal_timesteps,\n\u001b[0;32m    306\u001b[0m         callback\u001b[39m=\u001b[39;49mcallback,\n\u001b[0;32m    307\u001b[0m         log_interval\u001b[39m=\u001b[39;49mlog_interval,\n\u001b[0;32m    308\u001b[0m         eval_env\u001b[39m=\u001b[39;49meval_env,\n\u001b[0;32m    309\u001b[0m         eval_freq\u001b[39m=\u001b[39;49meval_freq,\n\u001b[0;32m    310\u001b[0m         n_eval_episodes\u001b[39m=\u001b[39;49mn_eval_episodes,\n\u001b[0;32m    311\u001b[0m         tb_log_name\u001b[39m=\u001b[39;49mtb_log_name,\n\u001b[0;32m    312\u001b[0m         eval_log_path\u001b[39m=\u001b[39;49meval_log_path,\n\u001b[0;32m    313\u001b[0m         reset_num_timesteps\u001b[39m=\u001b[39;49mreset_num_timesteps,\n\u001b[0;32m    314\u001b[0m     )\n",
      "File \u001b[1;32mc:\\Users\\Max.van.den.Hoven\\Anaconda3\\envs\\DIC2\\lib\\site-packages\\stable_baselines3\\common\\on_policy_algorithm.py:250\u001b[0m, in \u001b[0;36mOnPolicyAlgorithm.learn\u001b[1;34m(self, total_timesteps, callback, log_interval, eval_env, eval_freq, n_eval_episodes, tb_log_name, eval_log_path, reset_num_timesteps)\u001b[0m\n\u001b[0;32m    246\u001b[0m callback\u001b[39m.\u001b[39mon_training_start(\u001b[39mlocals\u001b[39m(), \u001b[39mglobals\u001b[39m())\n\u001b[0;32m    248\u001b[0m \u001b[39mwhile\u001b[39;00m \u001b[39mself\u001b[39m\u001b[39m.\u001b[39mnum_timesteps \u001b[39m<\u001b[39m total_timesteps:\n\u001b[1;32m--> 250\u001b[0m     continue_training \u001b[39m=\u001b[39m \u001b[39mself\u001b[39;49m\u001b[39m.\u001b[39;49mcollect_rollouts(\u001b[39mself\u001b[39;49m\u001b[39m.\u001b[39;49menv, callback, \u001b[39mself\u001b[39;49m\u001b[39m.\u001b[39;49mrollout_buffer, n_rollout_steps\u001b[39m=\u001b[39;49m\u001b[39mself\u001b[39;49m\u001b[39m.\u001b[39;49mn_steps)\n\u001b[0;32m    252\u001b[0m     \u001b[39mif\u001b[39;00m continue_training \u001b[39mis\u001b[39;00m \u001b[39mFalse\u001b[39;00m:\n\u001b[0;32m    253\u001b[0m         \u001b[39mbreak\u001b[39;00m\n",
      "File \u001b[1;32mc:\\Users\\Max.van.den.Hoven\\Anaconda3\\envs\\DIC2\\lib\\site-packages\\stable_baselines3\\common\\on_policy_algorithm.py:178\u001b[0m, in \u001b[0;36mOnPolicyAlgorithm.collect_rollouts\u001b[1;34m(self, env, callback, rollout_buffer, n_rollout_steps)\u001b[0m\n\u001b[0;32m    175\u001b[0m \u001b[39mif\u001b[39;00m \u001b[39misinstance\u001b[39m(\u001b[39mself\u001b[39m\u001b[39m.\u001b[39maction_space, gym\u001b[39m.\u001b[39mspaces\u001b[39m.\u001b[39mBox):\n\u001b[0;32m    176\u001b[0m     clipped_actions \u001b[39m=\u001b[39m np\u001b[39m.\u001b[39mclip(actions, \u001b[39mself\u001b[39m\u001b[39m.\u001b[39maction_space\u001b[39m.\u001b[39mlow, \u001b[39mself\u001b[39m\u001b[39m.\u001b[39maction_space\u001b[39m.\u001b[39mhigh)\n\u001b[1;32m--> 178\u001b[0m new_obs, rewards, dones, infos \u001b[39m=\u001b[39m env\u001b[39m.\u001b[39;49mstep(clipped_actions)\n\u001b[0;32m    180\u001b[0m \u001b[39mself\u001b[39m\u001b[39m.\u001b[39mnum_timesteps \u001b[39m+\u001b[39m\u001b[39m=\u001b[39m env\u001b[39m.\u001b[39mnum_envs\n\u001b[0;32m    182\u001b[0m \u001b[39m# Give access to local variables\u001b[39;00m\n",
      "File \u001b[1;32mc:\\Users\\Max.van.den.Hoven\\Anaconda3\\envs\\DIC2\\lib\\site-packages\\stable_baselines3\\common\\vec_env\\base_vec_env.py:162\u001b[0m, in \u001b[0;36mVecEnv.step\u001b[1;34m(self, actions)\u001b[0m\n\u001b[0;32m    155\u001b[0m \u001b[39m\"\"\"\u001b[39;00m\n\u001b[0;32m    156\u001b[0m \u001b[39mStep the environments with the given action\u001b[39;00m\n\u001b[0;32m    157\u001b[0m \n\u001b[0;32m    158\u001b[0m \u001b[39m:param actions: the action\u001b[39;00m\n\u001b[0;32m    159\u001b[0m \u001b[39m:return: observation, reward, done, information\u001b[39;00m\n\u001b[0;32m    160\u001b[0m \u001b[39m\"\"\"\u001b[39;00m\n\u001b[0;32m    161\u001b[0m \u001b[39mself\u001b[39m\u001b[39m.\u001b[39mstep_async(actions)\n\u001b[1;32m--> 162\u001b[0m \u001b[39mreturn\u001b[39;00m \u001b[39mself\u001b[39;49m\u001b[39m.\u001b[39;49mstep_wait()\n",
      "File \u001b[1;32mc:\\Users\\Max.van.den.Hoven\\Anaconda3\\envs\\DIC2\\lib\\site-packages\\stable_baselines3\\common\\vec_env\\vec_transpose.py:95\u001b[0m, in \u001b[0;36mVecTransposeImage.step_wait\u001b[1;34m(self)\u001b[0m\n\u001b[0;32m     94\u001b[0m \u001b[39mdef\u001b[39;00m \u001b[39mstep_wait\u001b[39m(\u001b[39mself\u001b[39m) \u001b[39m-\u001b[39m\u001b[39m>\u001b[39m VecEnvStepReturn:\n\u001b[1;32m---> 95\u001b[0m     observations, rewards, dones, infos \u001b[39m=\u001b[39m \u001b[39mself\u001b[39;49m\u001b[39m.\u001b[39;49mvenv\u001b[39m.\u001b[39;49mstep_wait()\n\u001b[0;32m     97\u001b[0m     \u001b[39m# Transpose the terminal observations\u001b[39;00m\n\u001b[0;32m     98\u001b[0m     \u001b[39mfor\u001b[39;00m idx, done \u001b[39min\u001b[39;00m \u001b[39menumerate\u001b[39m(dones):\n",
      "File \u001b[1;32mc:\\Users\\Max.van.den.Hoven\\Anaconda3\\envs\\DIC2\\lib\\site-packages\\stable_baselines3\\common\\vec_env\\dummy_vec_env.py:43\u001b[0m, in \u001b[0;36mDummyVecEnv.step_wait\u001b[1;34m(self)\u001b[0m\n\u001b[0;32m     41\u001b[0m \u001b[39mdef\u001b[39;00m \u001b[39mstep_wait\u001b[39m(\u001b[39mself\u001b[39m) \u001b[39m-\u001b[39m\u001b[39m>\u001b[39m VecEnvStepReturn:\n\u001b[0;32m     42\u001b[0m     \u001b[39mfor\u001b[39;00m env_idx \u001b[39min\u001b[39;00m \u001b[39mrange\u001b[39m(\u001b[39mself\u001b[39m\u001b[39m.\u001b[39mnum_envs):\n\u001b[1;32m---> 43\u001b[0m         obs, \u001b[39mself\u001b[39m\u001b[39m.\u001b[39mbuf_rews[env_idx], \u001b[39mself\u001b[39m\u001b[39m.\u001b[39mbuf_dones[env_idx], \u001b[39mself\u001b[39m\u001b[39m.\u001b[39mbuf_infos[env_idx] \u001b[39m=\u001b[39m \u001b[39mself\u001b[39;49m\u001b[39m.\u001b[39;49menvs[env_idx]\u001b[39m.\u001b[39;49mstep(\n\u001b[0;32m     44\u001b[0m             \u001b[39mself\u001b[39;49m\u001b[39m.\u001b[39;49mactions[env_idx]\n\u001b[0;32m     45\u001b[0m         )\n\u001b[0;32m     46\u001b[0m         \u001b[39mif\u001b[39;00m \u001b[39mself\u001b[39m\u001b[39m.\u001b[39mbuf_dones[env_idx]:\n\u001b[0;32m     47\u001b[0m             \u001b[39m# save final observation where user can get it, then reset\u001b[39;00m\n\u001b[0;32m     48\u001b[0m             \u001b[39mself\u001b[39m\u001b[39m.\u001b[39mbuf_infos[env_idx][\u001b[39m\"\u001b[39m\u001b[39mterminal_observation\u001b[39m\u001b[39m\"\u001b[39m] \u001b[39m=\u001b[39m obs\n",
      "File \u001b[1;32mc:\\Users\\Max.van.den.Hoven\\Anaconda3\\envs\\DIC2\\lib\\site-packages\\stable_baselines3\\common\\monitor.py:90\u001b[0m, in \u001b[0;36mMonitor.step\u001b[1;34m(self, action)\u001b[0m\n\u001b[0;32m     88\u001b[0m \u001b[39mif\u001b[39;00m \u001b[39mself\u001b[39m\u001b[39m.\u001b[39mneeds_reset:\n\u001b[0;32m     89\u001b[0m     \u001b[39mraise\u001b[39;00m \u001b[39mRuntimeError\u001b[39;00m(\u001b[39m\"\u001b[39m\u001b[39mTried to step environment that needs reset\u001b[39m\u001b[39m\"\u001b[39m)\n\u001b[1;32m---> 90\u001b[0m observation, reward, done, info \u001b[39m=\u001b[39m \u001b[39mself\u001b[39;49m\u001b[39m.\u001b[39;49menv\u001b[39m.\u001b[39;49mstep(action)\n\u001b[0;32m     91\u001b[0m \u001b[39mself\u001b[39m\u001b[39m.\u001b[39mrewards\u001b[39m.\u001b[39mappend(reward)\n\u001b[0;32m     92\u001b[0m \u001b[39mif\u001b[39;00m done:\n",
      "File \u001b[1;32mc:\\Users\\Max.van.den.Hoven\\Documents\\_data-intelligence-challenge\\2AMC15\\continuous_environment\\gym_env.py:199\u001b[0m, in \u001b[0;36mGymEnv.step\u001b[1;34m(self, actions)\u001b[0m\n\u001b[0;32m    197\u001b[0m     plot_multipolygon(geometry, \u001b[39m\"\u001b[39m\u001b[39mblack\u001b[39m\u001b[39m\"\u001b[39m, \u001b[39mself\u001b[39m\u001b[39m.\u001b[39maxes)\n\u001b[0;32m    198\u001b[0m \u001b[39melif\u001b[39;00m \u001b[39misinstance\u001b[39m(geometry, Polygon):\n\u001b[1;32m--> 199\u001b[0m     plot_polygon(geometry, \u001b[39m\"\u001b[39;49m\u001b[39mblack\u001b[39;49m\u001b[39m\"\u001b[39;49m, \u001b[39mself\u001b[39;49m\u001b[39m.\u001b[39;49maxes)\n\u001b[0;32m    200\u001b[0m \u001b[39melif\u001b[39;00m \u001b[39misinstance\u001b[39m(geometry, LineString):\n\u001b[0;32m    201\u001b[0m     \u001b[39mcontinue\u001b[39;00m\n",
      "File \u001b[1;32mc:\\Users\\Max.van.den.Hoven\\Documents\\_data-intelligence-challenge\\2AMC15\\continuous_environment\\plotting.py:25\u001b[0m, in \u001b[0;36mplot_polygon\u001b[1;34m(polygon, color, axes)\u001b[0m\n\u001b[0;32m     17\u001b[0m \u001b[39mdef\u001b[39;00m \u001b[39mplot_polygon\u001b[39m(polygon: Polygon, color: \u001b[39mstr\u001b[39m, axes: Axes):\n\u001b[0;32m     18\u001b[0m     \u001b[39m\"\"\"Plots Polygon in `color` to `axes`\u001b[39;00m\n\u001b[0;32m     19\u001b[0m \n\u001b[0;32m     20\u001b[0m \u001b[39m    Args:\u001b[39;00m\n\u001b[1;32m   (...)\u001b[0m\n\u001b[0;32m     23\u001b[0m \u001b[39m        axes (_type_): Matplotlib axes to plot to\u001b[39;00m\n\u001b[0;32m     24\u001b[0m \u001b[39m    \"\"\"\u001b[39;00m\n\u001b[1;32m---> 25\u001b[0m     axes\u001b[39m.\u001b[39;49mfill(\u001b[39m*\u001b[39;49mpolygon\u001b[39m.\u001b[39;49mexterior\u001b[39m.\u001b[39;49mxy, fc\u001b[39m=\u001b[39;49mcolor)\n",
      "File \u001b[1;32mc:\\Users\\Max.van.den.Hoven\\Anaconda3\\envs\\DIC2\\lib\\site-packages\\matplotlib\\axes\\_axes.py:5048\u001b[0m, in \u001b[0;36mAxes.fill\u001b[1;34m(self, data, *args, **kwargs)\u001b[0m\n\u001b[0;32m   5046\u001b[0m patches \u001b[39m=\u001b[39m [\u001b[39m*\u001b[39m\u001b[39mself\u001b[39m\u001b[39m.\u001b[39m_get_patches_for_fill(\u001b[39m*\u001b[39margs, data\u001b[39m=\u001b[39mdata, \u001b[39m*\u001b[39m\u001b[39m*\u001b[39mkwargs)]\n\u001b[0;32m   5047\u001b[0m \u001b[39mfor\u001b[39;00m poly \u001b[39min\u001b[39;00m patches:\n\u001b[1;32m-> 5048\u001b[0m     \u001b[39mself\u001b[39;49m\u001b[39m.\u001b[39;49madd_patch(poly)\n\u001b[0;32m   5049\u001b[0m \u001b[39mself\u001b[39m\u001b[39m.\u001b[39m_request_autoscale_view()\n\u001b[0;32m   5050\u001b[0m \u001b[39mreturn\u001b[39;00m patches\n",
      "File \u001b[1;32mc:\\Users\\Max.van.den.Hoven\\Anaconda3\\envs\\DIC2\\lib\\site-packages\\matplotlib\\axes\\_base.py:2363\u001b[0m, in \u001b[0;36m_AxesBase.add_patch\u001b[1;34m(self, p)\u001b[0m\n\u001b[0;32m   2361\u001b[0m \u001b[39mif\u001b[39;00m p\u001b[39m.\u001b[39mget_clip_path() \u001b[39mis\u001b[39;00m \u001b[39mNone\u001b[39;00m:\n\u001b[0;32m   2362\u001b[0m     p\u001b[39m.\u001b[39mset_clip_path(\u001b[39mself\u001b[39m\u001b[39m.\u001b[39mpatch)\n\u001b[1;32m-> 2363\u001b[0m \u001b[39mself\u001b[39;49m\u001b[39m.\u001b[39;49m_update_patch_limits(p)\n\u001b[0;32m   2364\u001b[0m \u001b[39mself\u001b[39m\u001b[39m.\u001b[39m_children\u001b[39m.\u001b[39mappend(p)\n\u001b[0;32m   2365\u001b[0m p\u001b[39m.\u001b[39m_remove_method \u001b[39m=\u001b[39m \u001b[39mself\u001b[39m\u001b[39m.\u001b[39m_children\u001b[39m.\u001b[39mremove\n",
      "File \u001b[1;32mc:\\Users\\Max.van.den.Hoven\\Anaconda3\\envs\\DIC2\\lib\\site-packages\\matplotlib\\axes\\_base.py:2382\u001b[0m, in \u001b[0;36m_AxesBase._update_patch_limits\u001b[1;34m(self, patch)\u001b[0m\n\u001b[0;32m   2380\u001b[0m     \u001b[39mreturn\u001b[39;00m\n\u001b[0;32m   2381\u001b[0m p \u001b[39m=\u001b[39m patch\u001b[39m.\u001b[39mget_path()\n\u001b[1;32m-> 2382\u001b[0m vertices \u001b[39m=\u001b[39m p\u001b[39m.\u001b[39mvertices \u001b[39mif\u001b[39;00m p\u001b[39m.\u001b[39mcodes \u001b[39mis\u001b[39;00m \u001b[39mNone\u001b[39;00m \u001b[39melse\u001b[39;00m p\u001b[39m.\u001b[39;49mvertices[np\u001b[39m.\u001b[39;49misin(\n\u001b[0;32m   2383\u001b[0m     p\u001b[39m.\u001b[39;49mcodes, (mpath\u001b[39m.\u001b[39;49mPath\u001b[39m.\u001b[39;49mCLOSEPOLY, mpath\u001b[39m.\u001b[39;49mPath\u001b[39m.\u001b[39;49mSTOP), invert\u001b[39m=\u001b[39;49m\u001b[39mTrue\u001b[39;49;00m)]\n\u001b[0;32m   2384\u001b[0m \u001b[39mif\u001b[39;00m \u001b[39mnot\u001b[39;00m vertices\u001b[39m.\u001b[39msize:\n\u001b[0;32m   2385\u001b[0m     \u001b[39mreturn\u001b[39;00m\n",
      "\u001b[1;31mKeyboardInterrupt\u001b[0m: "
     ]
    },
    {
     "data": {
      "image/png": "[encoded data removed]",
      "text/plain": [
       "<Figure size 256x256 with 1 Axes>"
      ]
     },
     "metadata": {},
     "output_type": "display_data"
    }
   ],
   "source": [
    "from continuous_environment import GymEnv, Robot\n",
    "\n",
    "from stable_baselines3 import PPO\n",
    "\n",
    "env = GymEnv(\n",
    "    configFile=\"example-env.json\",\n",
    "    robots=[Robot(id=1, radius=0.1, color=\"blue\", batteryLevel=100)],\n",
    "    startingPos=[[8, 5]],\n",
    "    save=True\n",
    ")\n",
    "\n",
    "model = PPO(\"CnnPolicy\", env, verbose=1)\n",
    "model.learn(total_timesteps=1, eval_log_path=\"eval\", eval_freq=1)\n",
    "\n",
    "obs = env.reset()\n",
    "for i in range(1000):\n",
    "    action, _states = model.predict(obs, deterministic=True)\n",
    "    obs, reward, done, info = env.step(action)\n",
    "    env.render()\n",
    "    if done:\n",
    "      obs = env.reset()\n",
    "\n",
    "env.close()"
   ]
  }
 ],
 "metadata": {
  "kernelspec": {
   "display_name": "Python 3.9.12 ('DIC2')",
   "language": "python",
   "name": "python3"
  },
  "language_info": {
   "codemirror_mode": {
    "name": "ipython",
    "version": 3
   },
   "file_extension": ".py",
   "mimetype": "text/x-python",
   "name": "python",
   "nbconvert_exporter": "python",
   "pygments_lexer": "ipython3",
   "version": "3.9.12"
  },
  "orig_nbformat": 4,
  "vscode": {
   "interpreter": {
    "hash": "41936f66d06cb379102e6d5d713d765bb3c58b6127701c28268b5ab9a1abeb38"
   }
  }
 },
 "nbformat": 4,
 "nbformat_minor": 2
}
