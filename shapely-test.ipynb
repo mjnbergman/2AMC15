{
 "cells": [
  {
   "cell_type": "code",
   "execution_count": 1,
   "metadata": {},
   "outputs": [],
   "source": [
    "from shapely.geometry import Polygon, MultiPolygon, Point, LineString, GeometryCollection\n",
    "import matplotlib.pyplot as plt\n",
    "import numpy as np"
   ]
  },
  {
   "cell_type": "code",
   "execution_count": 4,
   "metadata": {},
   "outputs": [],
   "source": [
    "goal = MultiPolygon([\n",
    "    Polygon([\n",
    "        (0, 6),\n",
    "        (0, 10),\n",
    "        (4, 10),\n",
    "        (4, 6),\n",
    "    ]),\n",
    "    Polygon([\n",
    "        (6, 6),\n",
    "        (6, 10),\n",
    "        (10, 10),\n",
    "        (10, 6),\n",
    "    ])\n",
    "])\n",
    "\n",
    "obstacles = MultiPolygon([\n",
    "    Polygon([\n",
    "        (0, 5.5),\n",
    "        (0, 6),\n",
    "        (4.5, 6),\n",
    "        (4.5, 5.5),\n",
    "    ]),\n",
    "    Polygon([\n",
    "        (5.5, 5.5),\n",
    "        (5.5, 6),\n",
    "        (10, 6),\n",
    "        (10, 5.5),\n",
    "    ])\n",
    "])\n",
    "\n",
    "death = MultiPolygon([\n",
    "    Polygon([\n",
    "        (8, 0),\n",
    "        (8, 2),\n",
    "        (10, 2),\n",
    "        (10, 0)\n",
    "    ])\n",
    "])\n",
    "\n",
    "robot = Point(2, 2).buffer(0.5)\n",
    "\n",
    "# path = Polygon([\n",
    "#     (-2.5, -2),\n",
    "#     (1.3, 3),\n",
    "#     (1.8, 3),\n",
    "#     (-2, -2),\n",
    "# ])"
   ]
  },
  {
   "cell_type": "code",
   "execution_count": 15,
   "metadata": {},
   "outputs": [],
   "source": [
    "def render_env(room_size: list, \n",
    "               obstacles: MultiPolygon, \n",
    "               death: MultiPolygon,\n",
    "               goal: MultiPolygon,\n",
    "               robot: Polygon) -> np.array:\n",
    "    \"\"\"Plots environment to screen or to numpy array\n",
    "\n",
    "    Args:\n",
    "        room_size (list[float]): 2D list of room length in [x, y] format\n",
    "        obstacles (MultiPolygon): Multipolygon describing obstacles\n",
    "        death (MultiPolygon): MultiPolygon describing death tiles\n",
    "        goal (MultiPolygon): MultiPolygon describing goal tiles\n",
    "        robot (Polygon): Robot Polygon\n",
    "\n",
    "    Returns:\n",
    "        np.array: Image of environment\n",
    "    \"\"\"\n",
    "\n",
    "    def plot_multipolygon(multipolygon: MultiPolygon, color: str, axes) -> None:\n",
    "        \"\"\"Plots MultiPolygon in `color`\n",
    "        \"\"\"\n",
    "        for polygon in multipolygon.geoms:\n",
    "            axes.fill(*polygon.exterior.xy, fc=color)\n",
    "\n",
    "    # Initialize plot\n",
    "    resolution = 256\n",
    "    dpi = 10\n",
    "    fig = plt.figure(figsize=(resolution/dpi, resolution/dpi), dpi=dpi)\n",
    "    axes = fig.add_axes([0.,0.,1.,1.])\n",
    "    \n",
    "    # axes.set_aspect(\"equal\")\n",
    "    axes.set_xticklabels([])\n",
    "    axes.set_xticks([])\n",
    "    axes.set_yticklabels([])\n",
    "    axes.set_yticks([])\n",
    "    axes.margins(x=0, y=0)\n",
    "\n",
    "    # Plot room background\n",
    "    axes.set_xlim((-0.5, room_size[0]+0.5))\n",
    "    axes.set_ylim((-0.5, room_size[1]+0.5))\n",
    "    axes.set_facecolor(\"black\")\n",
    "    axes.fill(\n",
    "        [0, 0, room_size[0], room_size[0], 0],\n",
    "        [0, room_size[1], room_size[1], 0, 0],\n",
    "        fc=\"white\"\n",
    "    ) \n",
    "\n",
    "    # Plot obstacles, death tiles and goal tiles\n",
    "    plot_multipolygon(obstacles, \"black\", axes)\n",
    "    plot_multipolygon(goal, \"orange\", axes)\n",
    "    plot_multipolygon(death, \"red\", axes)\n",
    "\n",
    "    # Plot robot\n",
    "    axes.fill(*robot.exterior.xy, fc=\"blue\")\n",
    "\n",
    "    # Output to numpy array\n",
    "    fig.canvas.draw()\n",
    "    image = np.frombuffer(fig.canvas.tostring_rgb(), dtype=np.uint8)\n",
    "    image = image.reshape((*fig.canvas.get_width_height()[::-1], 3))\n",
    "    fig.show()\n",
    "\n",
    "    # Save to disk\n",
    "    # cv2.imwrite(\"test.png\", render_env([10, 10], obstacles, death, goal, robot))\n",
    "\n",
    "    return image[:, :, ::-1]"
   ]
  },
  {
   "cell_type": "code",
   "execution_count": 16,
   "metadata": {},
   "outputs": [
    {
     "data": {
      "image/png": "[encoded data removed]",
      "text/plain": [
       "<Figure size 288x288 with 1 Axes>"
      ]
     },
     "metadata": {
      "needs_background": "light"
     },
     "output_type": "display_data"
    }
   ],
   "source": [
    "wall = GeometryCollection([\n",
    "    Polygon([\n",
    "        [5, 0],\n",
    "        [5, 10],\n",
    "        [6, 10],\n",
    "        [6, 0]\n",
    "    ]),\n",
    "    LineString([\n",
    "        [0, 0],\n",
    "        [0, 8],\n",
    "        [8, 8],\n",
    "        [8, 0]\n",
    "    ])\n",
    "])\n",
    "\n",
    "robot = Point(2, 2)\n",
    "\n",
    "dir = Point(8, 2)\n",
    "\n",
    "new_robot = Point(robot.x + dir.x, robot.y + dir.y)\n",
    "\n",
    "movement_path = LineString([robot, new_robot])\n",
    "\n",
    "\n",
    "fig = plt.figure(figsize=(4, 4))\n",
    "axes = fig.add_axes([0.,0.,1.,1.])\n",
    "plt.xlim((0, 11))\n",
    "plt.ylim((0, 11))\n",
    "\n",
    "for geometry in wall.geoms:\n",
    "    if hasattr(geometry, \"exterior\"): # polygon\n",
    "        axes.fill(*geometry.exterior.xy, fc=\"black\")\n",
    "    elif hasattr(geometry, \"boundary\"): # line\n",
    "        axes.plot(*geometry.xy)\n",
    "axes.plot(*movement_path.xy)\n",
    "axes.fill(*robot.buffer(0.5).exterior.xy, fc=\"blue\")\n",
    "\n",
    "intersect = movement_path.intersection(wall.buffer(0.5))\n",
    "\n",
    "for point in intersect.boundary.geoms:  \n",
    "    axes.fill(*point.buffer(0.1).exterior.xy, fc=\"red\")"
   ]
  },
  {
   "cell_type": "code",
   "execution_count": 4,
   "metadata": {},
   "outputs": [
    {
     "data": {
      "image/png": "[encoded data removed]",
      "text/plain": [
       "<Figure size 256x256 with 1 Axes>"
      ]
     },
     "metadata": {},
     "output_type": "display_data"
    },
    {
     "data": {
      "image/png": "[encoded data removed]",
      "text/plain": [
       "<Figure size 256x256 with 1 Axes>"
      ]
     },
     "metadata": {},
     "output_type": "display_data"
    },
    {
     "data": {
      "image/png": "[encoded data removed]",
      "text/plain": [
       "<Figure size 256x256 with 1 Axes>"
      ]
     },
     "metadata": {},
     "output_type": "display_data"
    },
    {
     "data": {
      "image/png": "[encoded data removed]",
      "text/plain": [
       "<Figure size 256x256 with 1 Axes>"
      ]
     },
     "metadata": {},
     "output_type": "display_data"
    },
    {
     "data": {
      "image/png": "[encoded data removed]",
      "text/plain": [
       "<Figure size 256x256 with 1 Axes>"
      ]
     },
     "metadata": {},
     "output_type": "display_data"
    }
   ],
   "source": [
    "from continuous_environment import Grid, Robot\n",
    "from shapely.geometry import Point\n",
    "grid = Grid(\n",
    "    configFile=\"example-env.json\", \n",
    "    robots=[\n",
    "        Robot(id=1, radius=0.5, color=\"blue\", batteryLevel=100)\n",
    "    ],\n",
    "    startingPos=[\n",
    "        [1, 1]\n",
    "    ]\n",
    ")\n",
    "output = grid.plot_grid(256, True, True)\n",
    "grid.robots[0].move(Point(-0.5, 0), 0)\n",
    "output = grid.plot_grid(256, True, True)\n",
    "grid.robots[0].move(Point(-10, 10), 0)\n",
    "output = grid.plot_grid(256, True, True)\n",
    "grid.robots[0].move(Point(0, 5), 0)\n",
    "output = grid.plot_grid(256, True, True)\n",
    "grid.robots[0].move(Point(1,10), 0)\n",
    "output = grid.plot_grid(256, True, True)"
   ]
  },
  {
   "cell_type": "code",
   "execution_count": 4,
   "metadata": {},
   "outputs": [
    {
     "data": {
      "text/plain": [
       "True"
      ]
     },
     "execution_count": 4,
     "metadata": {},
     "output_type": "execute_result"
    }
   ],
   "source": [
    "Point(2, 2).intersection(Point(3, 4)).is_empty"
   ]
  },
  {
   "cell_type": "code",
   "execution_count": 25,
   "metadata": {},
   "outputs": [
    {
     "data": {
      "image/png": "[encoded data removed]",
      "text/plain": [
       "<Figure size 256x256 with 1 Axes>"
      ]
     },
     "metadata": {},
     "output_type": "display_data"
    },
    {
     "name": "stdout",
     "output_type": "stream",
     "text": [
      "POINT (3.2 4)\n"
     ]
    },
    {
     "data": {
      "image/png": "[encoded data removed]",
      "text/plain": [
       "<Figure size 256x256 with 1 Axes>"
      ]
     },
     "metadata": {},
     "output_type": "display_data"
    },
    {
     "name": "stdout",
     "output_type": "stream",
     "text": [
      "POINT (0.8 0)\n"
     ]
    },
    {
     "data": {
      "image/png": "[encoded data removed]",
      "text/plain": [
       "<Figure size 256x256 with 1 Axes>"
      ]
     },
     "metadata": {},
     "output_type": "display_data"
    },
    {
     "name": "stdout",
     "output_type": "stream",
     "text": [
      "POINT (0 1.5)\n"
     ]
    },
    {
     "data": {
      "image/png": "[encoded data removed]",
      "text/plain": [
       "<Figure size 256x256 with 1 Axes>"
      ]
     },
     "metadata": {},
     "output_type": "display_data"
    },
    {
     "name": "stdout",
     "output_type": "stream",
     "text": [
      "POINT (1.5 1)\n"
     ]
    },
    {
     "data": {
      "image/png": "[encoded data removed]",
      "text/plain": [
       "<Figure size 256x256 with 1 Axes>"
      ]
     },
     "metadata": {},
     "output_type": "display_data"
    },
    {
     "name": "stdout",
     "output_type": "stream",
     "text": [
      "POINT (-2.5 1.5)\n"
     ]
    },
    {
     "data": {
      "image/png": "[encoded data removed]",
      "text/plain": [
       "<Figure size 256x256 with 1 Axes>"
      ]
     },
     "metadata": {},
     "output_type": "display_data"
    },
    {
     "name": "stdout",
     "output_type": "stream",
     "text": [
      "POINT (-2 -2)\n"
     ]
    },
    {
     "data": {
      "image/png": "[encoded data removed]",
      "text/plain": [
       "<Figure size 256x256 with 1 Axes>"
      ]
     },
     "metadata": {},
     "output_type": "display_data"
    },
    {
     "name": "stdout",
     "output_type": "stream",
     "text": [
      "POINT (3 -0.5)\n"
     ]
    },
    {
     "data": {
      "image/png": "[encoded data removed]",
      "text/plain": [
       "<Figure size 256x256 with 1 Axes>"
      ]
     },
     "metadata": {},
     "output_type": "display_data"
    },
    {
     "name": "stdout",
     "output_type": "stream",
     "text": [
      "POINT (3.5 2)\n"
     ]
    },
    {
     "data": {
      "image/png": "[encoded data removed]",
      "text/plain": [
       "<Figure size 256x256 with 1 Axes>"
      ]
     },
     "metadata": {},
     "output_type": "display_data"
    },
    {
     "name": "stdout",
     "output_type": "stream",
     "text": [
      "POINT (-4 0)\n"
     ]
    },
    {
     "data": {
      "image/png": "[encoded data removed]",
      "text/plain": [
       "<Figure size 256x256 with 1 Axes>"
      ]
     },
     "metadata": {},
     "output_type": "display_data"
    },
    {
     "name": "stdout",
     "output_type": "stream",
     "text": [
      "POINT (1 -4)\n"
     ]
    },
    {
     "data": {
      "image/png": "[encoded data removed]",
      "text/plain": [
       "<Figure size 256x256 with 1 Axes>"
      ]
     },
     "metadata": {},
     "output_type": "display_data"
    },
    {
     "name": "stdout",
     "output_type": "stream",
     "text": [
      "POINT (1.5 -1.5)\n"
     ]
    },
    {
     "data": {
      "image/png": "[encoded data removed]",
      "text/plain": [
       "<Figure size 256x256 with 1 Axes>"
      ]
     },
     "metadata": {},
     "output_type": "display_data"
    },
    {
     "name": "stdout",
     "output_type": "stream",
     "text": [
      "POINT (1.5 -1.5)\n"
     ]
    },
    {
     "data": {
      "image/png": "[encoded data removed]",
      "text/plain": [
       "<Figure size 256x256 with 1 Axes>"
      ]
     },
     "metadata": {},
     "output_type": "display_data"
    },
    {
     "name": "stdout",
     "output_type": "stream",
     "text": [
      "POINT (1.5 -1.5)\n"
     ]
    },
    {
     "data": {
      "image/png": "[encoded data removed]",
      "text/plain": [
       "<Figure size 256x256 with 1 Axes>"
      ]
     },
     "metadata": {},
     "output_type": "display_data"
    }
   ],
   "source": [
    "from continuous_environment import Grid, Robot\n",
    "from shapely.geometry import Point\n",
    "grid = Grid(\n",
    "    configFile=\"example-env.json\", \n",
    "    robots=[\n",
    "        Robot(id=1, radius=0.5, color=\"blue\")\n",
    "    ],\n",
    "    startingPos=[\n",
    "        [1, 1]\n",
    "    ]\n",
    ")\n",
    "\n",
    "output = grid.plot_grid(256, True, True)\n",
    "grid.robots[0].move(Point(3.2, 4), 0)\n",
    "output = grid.plot_grid(256, True, True)\n",
    "grid.robots[0].move(Point(0.8, 0), 0)\n",
    "output = grid.plot_grid(256, True, True)\n",
    "grid.robots[0].move(Point(0, 1.5), 0)\n",
    "output = grid.plot_grid(256, True, True)\n",
    "grid.robots[0].move(Point(1.5, 1), 0)\n",
    "output = grid.plot_grid(256, True, True)\n",
    "grid.robots[0].move(Point(-2.5, 1.5), 0)\n",
    "output = grid.plot_grid(256, True, True)\n",
    "grid.robots[0].move(Point(-2, -2), 0)\n",
    "output = grid.plot_grid(256, True, True)\n",
    "grid.robots[0].move(Point(3, -0.5), 0)\n",
    "output = grid.plot_grid(256, True, True)\n",
    "grid.robots[0].move(Point(3.5, 2), 0)\n",
    "output = grid.plot_grid(256, True, True)\n",
    "grid.robots[0].move(Point(-4, 0), 0)\n",
    "output = grid.plot_grid(256, True, True)\n",
    "grid.robots[0].move(Point(1, -4), 0)\n",
    "output = grid.plot_grid(256, True, True)\n",
    "grid.robots[0].move(Point(1.5, -1.5), 0)\n",
    "output = grid.plot_grid(256, True, True)\n",
    "grid.robots[0].move(Point(1.5, -1.5), 0)\n",
    "output = grid.plot_grid(256, True, True)\n",
    "grid.robots[0].move(Point(1.5, -1.5), 0)\n",
    "output = grid.plot_grid(256, True, True)"
   ]
  },
  {
   "cell_type": "code",
   "execution_count": 4,
   "metadata": {},
   "outputs": [],
   "source": [
    "a = MultiPolygon([\n",
    "    LineString([\n",
    "        [0.9, 5],\n",
    "        [1.05, 6.5]\n",
    "    ]),\n",
    "    LineString([\n",
    "        [1.35, 9.5],\n",
    "        [1.45, 10.5]\n",
    "    ]),\n",
    "    Point(0.5, 1)\n",
    "])"
   ]
  },
  {
   "cell_type": "code",
   "execution_count": 15,
   "metadata": {},
   "outputs": [],
   "source": [
    "from shapely.geometry.base import BaseMultipartGeometry\n",
    "from shapely.geometry import MultiLineString, MultiPoint, Polygon, LineString, MultiPolygon, GeometryCollection"
   ]
  },
  {
   "cell_type": "code",
   "execution_count": 23,
   "metadata": {},
   "outputs": [
    {
     "data": {
      "text/plain": [
       "1.4142135623730951"
      ]
     },
     "execution_count": 23,
     "metadata": {},
     "output_type": "execute_result"
    }
   ],
   "source": [
    "LineString([[2, 2], [3, 3]]).length"
   ]
  },
  {
   "cell_type": "code",
   "execution_count": 16,
   "metadata": {},
   "outputs": [
    {
     "data": {
      "text/plain": [
       "2.8284271247461903"
      ]
     },
     "execution_count": 16,
     "metadata": {},
     "output_type": "execute_result"
    }
   ],
   "source": [
    "Point(0, 0).distance(LineString([[2, 2], [3, 3]]))"
   ]
  },
  {
   "cell_type": "code",
   "execution_count": 20,
   "metadata": {},
   "outputs": [
    {
     "data": {
      "image/svg+xml": "<svg xmlns=\"http://www.w3.org/2000/svg\" xmlns:xlink=\"http://www.w3.org/1999/xlink\" width=\"100.0\" height=\"100.0\" viewBox=\"-0.16 -0.16 4.32 1.8199999999999998\" preserveAspectRatio=\"xMinYMin meet\"><g transform=\"matrix(1,0,0,-1,0,1.5)\"><g><path fill-rule=\"evenodd\" fill=\"#66cc99\" stroke=\"#555555\" stroke-width=\"0.0864\" opacity=\"0.6\" d=\"M 3.0,0.0 L 3.0,1.5 L 4.0,1.5 L 4.0,0.0 L 3.0,0.0 z\" /><path fill-rule=\"evenodd\" fill=\"#66cc99\" stroke=\"#555555\" stroke-width=\"0.0864\" opacity=\"0.6\" d=\"M 0.0,0.5 L 0.0,0.55 L 0.5,0.55 L 0.5,0.5 L 0.0,0.5 z\" /><polyline fill=\"none\" stroke=\"#66cc99\" stroke-width=\"0.0864\" points=\"0.0,0.0 0.0,1.5 4.0,1.5 4.0,0.0 0.0,0.0\" opacity=\"0.8\" /></g></g></svg>",
      "text/plain": [
       "<shapely.geometry.collection.GeometryCollection at 0x20506523c10>"
      ]
     },
     "execution_count": 20,
     "metadata": {},
     "output_type": "execute_result"
    }
   ],
   "source": [
    "a = Polygon([\n",
    "    [3, 0],\n",
    "    [3, 1.5],\n",
    "    [4, 1.5],\n",
    "    [4, 0]\n",
    "])\n",
    "\n",
    "c = Polygon([\n",
    "    [0, 0.5],\n",
    "    [0, 0.55],\n",
    "    [0.5, 0.55],\n",
    "    [0.5, 0.5]\n",
    "])\n",
    "\n",
    "\n",
    "b = LineString([\n",
    "    [0, 0],\n",
    "    [0, 1.5],\n",
    "    [4, 1.5],\n",
    "    [4, 0],\n",
    "    [0, 0]\n",
    "])\n",
    "\n",
    "GeometryCollection([a, c, b])\n"
   ]
  },
  {
   "cell_type": "code",
   "execution_count": 21,
   "metadata": {},
   "outputs": [
    {
     "data": {
      "image/svg+xml": "<svg xmlns=\"http://www.w3.org/2000/svg\" xmlns:xlink=\"http://www.w3.org/1999/xlink\" width=\"100.0\" height=\"100.0\" viewBox=\"-0.5920000000000001 -0.5920000000000001 5.184000000000001 2.684\" preserveAspectRatio=\"xMinYMin meet\"><g transform=\"matrix(1,0,0,-1,0,1.5)\"><path fill-rule=\"evenodd\" fill=\"#66cc99\" stroke=\"#555555\" stroke-width=\"0.10368000000000002\" opacity=\"0.6\" d=\"M 0.0,-0.4 L -0.03920685613182418,-0.39807389066887877 L -0.07803612880645147,-0.39231411216129214 L -0.11611387090178499,-0.38277613429288354 L -0.15307337294603615,-0.3695518130045146 L -0.18855869473039916,-0.352768505739342 L -0.22222809320784087,-0.3325878449210181 L -0.2537573136654584,-0.3092041813450947 L -0.28284271247461906,-0.282842712474619 L -0.30920418134509486,-0.2537573136654581 L -0.3325878449210182,-0.2222280932078408 L -0.35276850573934204,-0.18855869473039907 L -0.3695518130045148,-0.15307337294603587 L -0.3827761342928836,-0.11611387090178485 L -0.3923141121612922,-0.07803612880645135 L -0.39807389066887877,-0.03920685613182424 L -0.4000000000000001,0.0 L -0.4000000000000001,1.5 L -0.39807389066887877,1.5392068561318244 L -0.3923141121612922,1.5780361288064515 L -0.38277613429288354,1.616113870901785 L -0.36955181300451473,1.6530733729460358 L -0.352768505739342,1.6885586947303992 L -0.33258784492101817,1.7222280932078409 L -0.3092041813450948,1.7537573136654583 L -0.282842712474619,1.7828427124746191 L -0.2537573136654582,1.8092041813450948 L -0.2222280932078408,1.8325878449210182 L -0.1885586947303991,1.8527685057393422 L -0.1530733729460359,1.8695518130045148 L -0.11611387090178488,1.8827761342928837 L -0.07803612880645128,1.892314112161292 L -0.03920685613182426,1.8980738906688788 L 0.0,1.9 L 3.0,1.9 L 4.0,1.9 L 4.039206856131824,1.8980738906688788 L 4.078036128806452,1.892314112161292 L 4.116113870901785,1.8827761342928837 L 4.153073372946036,1.8695518130045148 L 4.188558694730399,1.852768505739342 L 4.222228093207841,1.8325878449210182 L 4.253757313665458,1.8092041813450948 L 4.282842712474619,1.7828427124746191 L 4.309204181345095,1.7537573136654583 L 4.332587844921018,1.7222280932078409 L 4.352768505739342,1.688558694730399 L 4.369551813004515,1.6530733729460358 L 4.382776134292883,1.6161138709017848 L 4.3923141121612925,1.5780361288064513 L 4.398073890668879,1.5392068561318242 L 4.4,1.5 L 4.4,0.0 L 4.398073890668879,-0.039206856131824244 L 4.3923141121612925,-0.0780361288064513 L 4.382776134292883,-0.11611387090178493 L 4.369551813004515,-0.15307337294603593 L 4.352768505739342,-0.18855869473039907 L 4.332587844921018,-0.22222809320784087 L 4.309204181345095,-0.25375731366545823 L 4.282842712474619,-0.28284271247461906 L 4.253757313665458,-0.30920418134509475 L 4.222228093207841,-0.3325878449210181 L 4.188558694730399,-0.352768505739342 L 4.153073372946036,-0.36955181300451473 L 4.116113870901785,-0.3827761342928836 L 4.078036128806452,-0.3923141121612922 L 4.039206856131824,-0.39807389066887877 L 4.0,-0.4 L 3.0,-0.4 L 0.0,-0.4 z M 2.6,1.1 L 0.4000000000000001,1.1 L 0.4000000000000001,0.9500000000000001 L 0.5,0.9500000000000001 L 0.5392068561318243,0.9480738906688788 L 0.5780361288064513,0.9423141121612922 L 0.6161138709017849,0.9327761342928836 L 0.653073372946036,0.9195518130045148 L 0.6885586947303991,0.902768505739342 L 0.7222280932078409,0.8825878449210182 L 0.7537573136654583,0.8592041813450948 L 0.7828427124746191,0.8328427124746192 L 0.8092041813450948,0.8037573136654583 L 0.8325878449210181,0.7722280932078409 L 0.8527685057393419,0.7385586947303991 L 0.8695518130045148,0.703073372946036 L 0.8827761342928836,0.666113870901785 L 0.8923141121612922,0.6280361288064513 L 0.8980738906688788,0.5892068561318243 L 0.9,0.55 L 0.9,0.5 L 0.8980738906688788,0.46079314386817577 L 0.8923141121612922,0.4219638711935487 L 0.8868124488319867,0.4 L 2.6,0.4 L 2.6,1.1 z\" /></g></svg>",
      "text/plain": [
       "<shapely.geometry.polygon.Polygon at 0x2050651e5e0>"
      ]
     },
     "execution_count": 21,
     "metadata": {},
     "output_type": "execute_result"
    }
   ],
   "source": [
    "GeometryCollection([a, c, b]).buffer(0.4)"
   ]
  },
  {
   "cell_type": "code",
   "execution_count": 80,
   "metadata": {},
   "outputs": [
    {
     "data": {
      "text/plain": [
       "[<matplotlib.patches.Polygon at 0x2153426ef40>]"
      ]
     },
     "execution_count": 80,
     "metadata": {},
     "output_type": "execute_result"
    },
    {
     "data": {
      "image/png": "[encoded data removed]",
      "text/plain": [
       "<Figure size 432x288 with 1 Axes>"
      ]
     },
     "metadata": {
      "needs_background": "light"
     },
     "output_type": "display_data"
    }
   ],
   "source": [
    "import matplotlib.pyplot as plt\n",
    "\n",
    "fig, axes = plt.subplots()\n",
    "axes.set_aspect(\"equal\")\n",
    "plt.xlim((0, 1))\n",
    "plt.ylim((0, 1.5))\n",
    "\n",
    "axes.fill(*(a-c).exterior.xy)\n",
    "axes.fill(*(a-c).buffer(-0.24999, join_style=2).buffer(0.24999).buffer(-0.24999).exterior.xy, fc=\"green\")"
   ]
  },
  {
   "cell_type": "code",
   "execution_count": 69,
   "metadata": {},
   "outputs": [
    {
     "data": {
      "image/svg+xml": "<svg xmlns=\"http://www.w3.org/2000/svg\" xmlns:xlink=\"http://www.w3.org/1999/xlink\" width=\"100.0\" height=\"100.0\" viewBox=\"0.20998920000000001 0.2099892 0.5800216000000001 1.0800216000000002\" preserveAspectRatio=\"xMinYMin meet\"><g transform=\"matrix(1,0,0,-1,0,1.5)\"><path fill-rule=\"evenodd\" fill=\"#66cc99\" stroke=\"#555555\" stroke-width=\"0.021600432000000006\" opacity=\"0.6\" d=\"M 0.2559233553647603,0.25 L 0.25612691004101046,0.25001 L 0.49999999999999994,0.25001 L 0.5245033049109868,0.25121377017921753 L 0.5487706296008119,0.2548134877519964 L 0.572568266466843,0.26077448547030513 L 0.5956670312569488,0.2690393556675035 L 0.6178444702391311,0.2795285031255548 L 0.6388870025525704,0.2921409116204867 L 0.6585919771080697,0.3067551167638494 L 0.676769624228825,0.32323037577117497 L 0.6932448832361505,0.3414080228919303 L 0.7078590883795133,0.36111299744742964 L 0.7204714968744452,0.3821555297608688 L 0.7309606443324965,0.4043329687430512 L 0.7392255145296949,0.427431733533157 L 0.7451865122480035,0.4512293703991881 L 0.7487862298207825,0.4754966950890131 L 0.7499899999999999,0.5 L 0.7499899999999999,0.55 L 0.7487862298207825,0.5745033049109869 L 0.7451865122480035,0.598770629600812 L 0.7392255145296949,0.622568266466843 L 0.7309606443324965,0.6456670312569488 L 0.7204714968744452,0.6678444702391312 L 0.7078590883795133,0.6888870025525704 L 0.6932448832361505,0.7085919771080698 L 0.676769624228825,0.7267696242288251 L 0.6585919771080697,0.7432448832361507 L 0.6388870025525704,0.7578590883795133 L 0.6178444702391311,0.7704714968744453 L 0.5956670312569488,0.7809606443324966 L 0.572568266466843,0.7892255145296949 L 0.5487706296008119,0.7951865122480036 L 0.5245033049109868,0.7987862298207825 L 0.49999999999999994,0.79999 L 0.2561269100410117,0.79999 L 0.25027736949940776,0.8002773694994078 L 0.24999000000000002,0.8061269100410109 L 0.24999000000000002,1.2438730899589885 L 0.2502773694994078,1.2497226305005924 L 0.2561269100410099,1.25001 L 0.7438730899589867,1.25001 L 0.7497226305005923,1.2497226305005922 L 0.7500100000000001,1.243873089958989 L 0.7500100000000001,0.256126910041011 L 0.7497226305005923,0.25027736949940776 L 0.7438730899589886,0.24999 L 0.25612691004101035,0.24999 L 0.2559233553647603,0.25 z\" /></g></svg>",
      "text/plain": [
       "<shapely.geometry.polygon.Polygon at 0x2152fe35ee0>"
      ]
     },
     "execution_count": 69,
     "metadata": {},
     "output_type": "execute_result"
    }
   ],
   "source": [
    "(a-c).buffer(-0.24999, join_style=2).buffer(0.24999).buffer(-0.24999)"
   ]
  },
  {
   "cell_type": "code",
   "execution_count": 49,
   "metadata": {},
   "outputs": [
    {
     "data": {
      "image/svg+xml": "<svg xmlns=\"http://www.w3.org/2000/svg\" xmlns:xlink=\"http://www.w3.org/1999/xlink\" width=\"100.0\" height=\"100.0\" viewBox=\"-0.04 -0.04 1.08 1.08\" preserveAspectRatio=\"xMinYMin meet\"><g transform=\"matrix(1,0,0,-1,0,1.0)\"><path fill-rule=\"evenodd\" fill=\"#66cc99\" stroke=\"#555555\" stroke-width=\"0.0216\" opacity=\"0.6\" d=\"M 0.0,0.5 L 0.5,0.5 L 0.5,0.55 L 0.0,0.55 L 0.0,1.0 L 1.0,1.0 L 1.0,0.0 L 0.0,0.0 L 0.0,0.5 z\" /></g></svg>",
      "text/plain": [
       "<shapely.geometry.polygon.Polygon at 0x2150cf6ca00>"
      ]
     },
     "execution_count": 49,
     "metadata": {},
     "output_type": "execute_result"
    }
   ],
   "source": [
    "(a-c)"
   ]
  },
  {
   "cell_type": "code",
   "execution_count": 84,
   "metadata": {},
   "outputs": [
    {
     "name": "stderr",
     "output_type": "stream",
     "text": [
      "c:\\Users\\Max.van.den.Hoven\\Anaconda3\\envs\\DIC\\lib\\site-packages\\shapely\\geometry\\multipoint.py:191: ShapelyDeprecationWarning: __len__ for multi-part geometries is deprecated and will be removed in Shapely 2.0. Check the length of the `geoms` property instead to get the  number of parts of a multi-part geometry.\n",
      "  n = len(ob[0])\n"
     ]
    },
    {
     "ename": "AssertionError",
     "evalue": "",
     "output_type": "error",
     "traceback": [
      "\u001b[1;31m---------------------------------------------------------------------------\u001b[0m",
      "\u001b[1;31mAssertionError\u001b[0m                            Traceback (most recent call last)",
      "\u001b[1;32mc:\\Users\\Max.van.den.Hoven\\Documents\\_data-intelligence-challenge\\2AMC15\\shapely-test.ipynb Cell 14'\u001b[0m in \u001b[0;36m<cell line: 1>\u001b[1;34m()\u001b[0m\n\u001b[1;32m----> <a href='vscode-notebook-cell:/c%3A/Users/Max.van.den.Hoven/Documents/_data-intelligence-challenge/2AMC15/shapely-test.ipynb#ch0000030?line=0'>1</a>\u001b[0m a \u001b[39m=\u001b[39m MultiPoint([MultiPoint([Point(\u001b[39m1\u001b[39;49m, \u001b[39m2\u001b[39;49m)])])\n\u001b[0;32m      <a href='vscode-notebook-cell:/c%3A/Users/Max.van.den.Hoven/Documents/_data-intelligence-challenge/2AMC15/shapely-test.ipynb#ch0000030?line=1'>2</a>\u001b[0m \u001b[39mlen\u001b[39m(a\u001b[39m.\u001b[39mgeoms)\n\u001b[0;32m      <a href='vscode-notebook-cell:/c%3A/Users/Max.van.den.Hoven/Documents/_data-intelligence-challenge/2AMC15/shapely-test.ipynb#ch0000030?line=2'>3</a>\u001b[0m \u001b[39mprint\u001b[39m(a)\n",
      "File \u001b[1;32mc:\\Users\\Max.van.den.Hoven\\Anaconda3\\envs\\DIC\\lib\\site-packages\\shapely\\geometry\\multipoint.py:55\u001b[0m, in \u001b[0;36mMultiPoint.__init__\u001b[1;34m(self, points)\u001b[0m\n\u001b[0;32m     <a href='file:///c%3A/Users/Max.van.den.Hoven/Anaconda3/envs/DIC/lib/site-packages/shapely/geometry/multipoint.py?line=52'>53</a>\u001b[0m     \u001b[39mpass\u001b[39;00m\n\u001b[0;32m     <a href='file:///c%3A/Users/Max.van.den.Hoven/Anaconda3/envs/DIC/lib/site-packages/shapely/geometry/multipoint.py?line=53'>54</a>\u001b[0m \u001b[39melse\u001b[39;00m:\n\u001b[1;32m---> <a href='file:///c%3A/Users/Max.van.den.Hoven/Anaconda3/envs/DIC/lib/site-packages/shapely/geometry/multipoint.py?line=54'>55</a>\u001b[0m     geom, n \u001b[39m=\u001b[39m geos_multipoint_from_py(points)\n\u001b[0;32m     <a href='file:///c%3A/Users/Max.van.den.Hoven/Anaconda3/envs/DIC/lib/site-packages/shapely/geometry/multipoint.py?line=55'>56</a>\u001b[0m     \u001b[39mself\u001b[39m\u001b[39m.\u001b[39m_set_geom(geom)\n\u001b[0;32m     <a href='file:///c%3A/Users/Max.van.den.Hoven/Anaconda3/envs/DIC/lib/site-packages/shapely/geometry/multipoint.py?line=56'>57</a>\u001b[0m     \u001b[39mself\u001b[39m\u001b[39m.\u001b[39m_ndim \u001b[39m=\u001b[39m n\n",
      "File \u001b[1;32mc:\\Users\\Max.van.den.Hoven\\Anaconda3\\envs\\DIC\\lib\\site-packages\\shapely\\geometry\\multipoint.py:194\u001b[0m, in \u001b[0;36mgeos_multipoint_from_py\u001b[1;34m(ob)\u001b[0m\n\u001b[0;32m    <a href='file:///c%3A/Users/Max.van.den.Hoven/Anaconda3/envs/DIC/lib/site-packages/shapely/geometry/multipoint.py?line=191'>192</a>\u001b[0m \u001b[39mexcept\u001b[39;00m \u001b[39mTypeError\u001b[39;00m:\n\u001b[0;32m    <a href='file:///c%3A/Users/Max.van.den.Hoven/Anaconda3/envs/DIC/lib/site-packages/shapely/geometry/multipoint.py?line=192'>193</a>\u001b[0m     n \u001b[39m=\u001b[39m ob[\u001b[39m0\u001b[39m]\u001b[39m.\u001b[39m_ndim\n\u001b[1;32m--> <a href='file:///c%3A/Users/Max.van.den.Hoven/Anaconda3/envs/DIC/lib/site-packages/shapely/geometry/multipoint.py?line=193'>194</a>\u001b[0m \u001b[39massert\u001b[39;00m n \u001b[39m==\u001b[39m \u001b[39m2\u001b[39m \u001b[39mor\u001b[39;00m n \u001b[39m==\u001b[39m \u001b[39m3\u001b[39m\n\u001b[0;32m    <a href='file:///c%3A/Users/Max.van.den.Hoven/Anaconda3/envs/DIC/lib/site-packages/shapely/geometry/multipoint.py?line=195'>196</a>\u001b[0m \u001b[39m# Array of pointers to point geometries\u001b[39;00m\n\u001b[0;32m    <a href='file:///c%3A/Users/Max.van.den.Hoven/Anaconda3/envs/DIC/lib/site-packages/shapely/geometry/multipoint.py?line=196'>197</a>\u001b[0m subs \u001b[39m=\u001b[39m (c_void_p \u001b[39m*\u001b[39m m)()\n",
      "\u001b[1;31mAssertionError\u001b[0m: "
     ]
    }
   ],
   "source": [
    "a = MultiPoint([MultiPoint([Point(1, 2)])])\n",
    "len(a.geoms)\n",
    "print(a)"
   ]
  },
  {
   "cell_type": "code",
   "execution_count": 23,
   "metadata": {},
   "outputs": [
    {
     "data": {
      "text/plain": [
       "[<shapely.geometry.point.Point at 0x1f154cb45b0>,\n",
       " <shapely.geometry.point.Point at 0x1f154cb4820>]"
      ]
     },
     "execution_count": 23,
     "metadata": {},
     "output_type": "execute_result"
    }
   ],
   "source": [
    "[Point(coord) for coord in a.geoms[0].coords]"
   ]
  },
  {
   "cell_type": "code",
   "execution_count": 18,
   "metadata": {},
   "outputs": [
    {
     "data": {
      "text/plain": [
       "True"
      ]
     },
     "execution_count": 18,
     "metadata": {},
     "output_type": "execute_result"
    }
   ],
   "source": [
    "isinstance(MultiLineString(), BaseMultipartGeometry)"
   ]
  },
  {
   "cell_type": "code",
   "execution_count": 28,
   "metadata": {},
   "outputs": [
    {
     "ename": "SyntaxError",
     "evalue": "invalid syntax (4153881943.py, line 1)",
     "output_type": "error",
     "traceback": [
      "\u001b[1;36m  Input \u001b[1;32mIn [28]\u001b[1;36m\u001b[0m\n\u001b[1;33m    [(point for point in geom.boundary.geoms if isinstance(geom, LineString) else geom) for geom in a.geoms ]\u001b[0m\n\u001b[1;37m                                                                             ^\u001b[0m\n\u001b[1;31mSyntaxError\u001b[0m\u001b[1;31m:\u001b[0m invalid syntax\n"
     ]
    }
   ],
   "source": [
    "[(point for point in geom.boundary.geoms if isinstance(geom, LineString) else geom) for geom in a.geoms ]"
   ]
  },
  {
   "cell_type": "code",
   "execution_count": 92,
   "metadata": {},
   "outputs": [
    {
     "data": {
      "text/plain": [
       "array([3.000e+00, 2.000e+00, 1.000e+00, 9.999e+03, 2.000e+00, 1.000e+00])"
      ]
     },
     "execution_count": 92,
     "metadata": {},
     "output_type": "execute_result"
    }
   ],
   "source": [
    "import numpy as np\n",
    "\n",
    "distances = [3., 2., 1., 0., 2., 1.]\n",
    "\n",
    "dist_np = np.array(distances)\n",
    "\n",
    "dist_np += (dist_np <= 0)*9999\n",
    "\n",
    "dist_np"
   ]
  },
  {
   "cell_type": "code",
   "execution_count": null,
   "metadata": {},
   "outputs": [],
   "source": []
  }
 ],
 "metadata": {
  "interpreter": {
   "hash": "2ac594b000b127bd61ae4e5ac41d43ea16be05025342e18e68d172d4f151de8a"
  },
  "kernelspec": {
   "display_name": "Python 3.8.11 ('DIC')",
   "language": "python",
   "name": "python3"
  },
  "language_info": {
   "codemirror_mode": {
    "name": "ipython",
    "version": 3
   },
   "file_extension": ".py",
   "mimetype": "text/x-python",
   "name": "python",
   "nbconvert_exporter": "python",
   "pygments_lexer": "ipython3",
   "version": "3.8.11"
  },
  "orig_nbformat": 4
 },
 "nbformat": 4,
 "nbformat_minor": 2
}
